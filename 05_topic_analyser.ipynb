{
 "cells": [
  {
   "cell_type": "markdown",
   "metadata": {},
   "source": [
    "## Topic Analysis with LDA\n",
    "\n",
    "This notebook demonstrates how to analyse topics in a dataset using a pre-trained LDA model. We'll use the Cohere/movies dataset from Hugging Face.\n",
    "\n",
    "## Motivation\n",
    "\n",
    "Understanding the underlying topics in a large collection of documents can provide valuable insights. Topic modeling helps in summarizing, organizing, and making sense of large text datasets. This can be particularly useful in various applications such as content recommendation, document classification, and trend analysis.\n",
    "\n",
    "In this notebook, we will:\n",
    "- Load a pre-trained LDA model\n",
    "- Visualize topic distributions for documents\n",
    "- Identify top words in each topic\n",
    "- Use OpenAI to interpret the meaning of topics"
   ]
  },
  {
   "cell_type": "markdown",
   "metadata": {},
   "source": [
    "## Setup\n",
    "\n",
    "Load necessary libraries and modules."
   ]
  },
  {
   "cell_type": "code",
   "execution_count": 1,
   "metadata": {},
   "outputs": [
    {
     "name": "stderr",
     "output_type": "stream",
     "text": [
      "INFO:src.openai_utils:Azure OpenAI client initialized successfully.\n"
     ]
    }
   ],
   "source": [
    "import numpy as np\n",
    "import json\n",
    "from src.topic_utils import TopicAnalyser\n",
    "from src.openai_utils import interpret_topic_with_openai\n",
    "import pickle\n",
    "import matplotlib.pyplot as plt\n",
    "import pandas as pd\n",
    "from pathlib import Path\n",
    "\n"
   ]
  },
  {
   "cell_type": "markdown",
   "metadata": {},
   "source": [
    "## Prerequisite \n",
    "\n",
    "To run the code below, you would need to have saved one model. To do so, you can run the notebook `02_model_training.ipynb` that creates a model in the `models` folder or to create multiple models by using the python command `python src/topic_modeller.py -c configs/model_configs.jsonl`. You would also need to have run the notebook `01_data_preparation.ipynb`, which saves teh vocabulary `vocab.pkl` in the `data` folder."
   ]
  },
  {
   "cell_type": "markdown",
   "metadata": {},
   "source": [
    "## Load Pre-trained Topic Model\n",
    "\n",
    "Load the pre-trained LDA model and vocabulary. "
   ]
  },
  {
   "cell_type": "code",
   "execution_count": 2,
   "metadata": {},
   "outputs": [],
   "source": [
    "# Load the pre-trained topic model (model_3) from the models folder\n",
    "model_name = 'model_4.pkl'\n",
    "model_path = Path('./models') / model_name\n",
    "with open(model_path, 'rb') as f:\n",
    "    topic_model = pickle.load(f)\n",
    "\n",
    "# Extract outcome matrices from the model\n",
    "topics = topic_model.topic_word_\n",
    "topic_mixtures = topic_model.doc_topic_\n",
    "\n",
    "# Load the vocabulary from the data folder\n",
    "vocab_path = Path('./data') / 'vocab.pkl'\n",
    "with open(vocab_path, 'rb') as f:\n",
    "    vocab = pickle.load(f)"
   ]
  },
  {
   "cell_type": "markdown",
   "metadata": {},
   "source": [
    "## Define Topic Analyser\n",
    "\n",
    "Initialize the TopicAnalyser with the loaded model data."
   ]
  },
  {
   "cell_type": "code",
   "execution_count": 3,
   "metadata": {},
   "outputs": [],
   "source": [
    "# Define the TopicAnalyser with the topic mixtures, topics, and vocabulary\n",
    "topic_assistant = TopicAnalyser(topic_mixtures, topics, vocab)"
   ]
  },
  {
   "cell_type": "markdown",
   "metadata": {},
   "source": [
    "## Visualize Topic Distribution\n",
    "\n",
    "Visualize the topic distribution for a specific document. This helps us understand which topics are most predominant in the document."
   ]
  },
  {
   "cell_type": "code",
   "execution_count": 18,
   "metadata": {},
   "outputs": [
    {
     "name": "stdout",
     "output_type": "stream",
     "text": [
      "in the nd century a paraplegic marine is dispatched to the moon pandora on a unique mission but becomes torn between following orders and protecting an alien civilization\n"
     ]
    }
   ],
   "source": [
    "\n",
    "documents = Path('./data/documents.pkl')\n",
    "# Load the documents from the pickle file\n",
    "with open(documents, 'rb') as f:\n",
    "    documents = pickle.load(f)\n",
    "# Print the first document\n",
    "print(' '.join(documents[0]))\n"
   ]
  },
  {
   "cell_type": "code",
   "execution_count": 4,
   "metadata": {},
   "outputs": [
    {
     "name": "stdout",
     "output_type": "stream",
     "text": [
      "[0.00526316 0.00526316 0.05789474 0.00526316 0.00526316 0.32105263\n",
      " 0.11052632 0.00526316 0.00526316 0.00526316 0.00526316 0.00526316\n",
      " 0.00526316 0.00526316 0.00526316 0.00526316 0.16315789 0.00526316\n",
      " 0.00526316 0.00526316 0.05789474 0.00526316 0.00526316 0.00526316\n",
      " 0.00526316 0.00526316 0.00526316 0.00526316 0.11052632 0.00526316\n",
      " 0.00526316 0.00526316 0.00526316 0.00526316 0.00526316 0.00526316\n",
      " 0.00526316 0.00526316 0.00526316 0.00526316]\n"
     ]
    },
    {
     "data": {
      "image/png": "[encoded data removed]",
      "text/plain": [
       "<Figure size 640x480 with 1 Axes>"
      ]
     },
     "metadata": {},
     "output_type": "display_data"
    }
   ],
   "source": [
    "# Print the topic distribution of the first document\n",
    "topic_distribution_doc_0= topic_assistant.topic_mixtures[0]\n",
    "print(topic_distribution_doc_0)\n",
    "# Visualize the topic distribution of the first document\n",
    "# This helps us understand which topics are most predominant in the document\n",
    "topic_assistant.plot_document_distribution(0)"
   ]
  },
  {
   "cell_type": "markdown",
   "metadata": {},
   "source": [
    "## Top Words in Topics\n",
    "\n",
    "Print the top words for specific topics. These words help us understand the main themes of each topic."
   ]
  },
  {
   "cell_type": "code",
   "execution_count": 5,
   "metadata": {},
   "outputs": [
    {
     "name": "stdout",
     "output_type": "stream",
     "text": [
      "['war', 'world', 'army', 'u', 'ii', 'battle', 'american', 'soldiers', 'british', 'forces']\n"
     ]
    }
   ],
   "source": [
    "# Print the top words of the most representative topic of the first document\n",
    "topic_id = np.argmax(topic_distribution_doc_0)\n",
    "top_words_topic_11 = topic_assistant.get_top_words(topic_id)\n",
    "print(top_words_topic_11)"
   ]
  },
  {
   "cell_type": "code",
   "execution_count": 12,
   "metadata": {},
   "outputs": [
    {
     "name": "stdout",
     "output_type": "stream",
     "text": [
      "['earth', 'planet', 'crew', 'alien', 'space', 'ship', 'island', 'mission', 'race', 'sea']\n"
     ]
    }
   ],
   "source": [
    "# Print the top words of the second most representative topic of the first document\n",
    "# The second most representative topic is the one with the second highest probability\n",
    "topic_id = np.argsort(topic_distribution_doc_0)[::-1][1]\n",
    "top_words_topic_6 = topic_assistant.get_top_words(topic_id)\n",
    "print(top_words_topic_6)"
   ]
  },
  {
   "cell_type": "markdown",
   "metadata": {},
   "source": [
    "## Interpret Topic with OpenAI\n",
    "\n",
    "Use OpenAI to interpret the meaning of a topic based on its top words and top documents. This can provide a more human-readable understanding of the topic."
   ]
  },
  {
   "cell_type": "code",
   "execution_count": 13,
   "metadata": {},
   "outputs": [
    {
     "name": "stderr",
     "output_type": "stream",
     "text": [
      "INFO:httpx:HTTP Request: POST https://topichackaton.openai.azure.com/openai/deployments/gpt-35-turbo/chat/completions?api-version=2024-05-01-preview \"HTTP/1.1 200 OK\"\n"
     ]
    },
    {
     "data": {
      "text/plain": [
       "{'topic_name': 'Space Exploration Mission',\n",
       " 'topic_description': 'The topic revolves around a space exploration mission involving a crew traveling to different planets, encountering aliens, and exploring unknown territories. The crew is on a spaceship, navigating through space to reach various destinations such as islands or planets. They are on a race against time or other competitors to achieve their mission objectives. The mission may involve studying new species, discovering new worlds, or investigating the mysteries of the universe. The crew faces challenges such as navigating through space, interacting with alien species, and exploring uncharted territories like islands or seas.'}"
      ]
     },
     "execution_count": 13,
     "metadata": {},
     "output_type": "execute_result"
    }
   ],
   "source": [
    "# Interpret a topic with OpenAI\n",
    "topic_top_words = topic_assistant.get_top_words(topic_id)\n",
    "interpret_topic_with_openai(topic_top_words)"
   ]
  },
  {
   "cell_type": "markdown",
   "metadata": {},
   "source": [
    "The first document is a synopsis of the movie *Avatar*. Interestingly, the topics effectively capture the themes of the movie's plot. Feel free to explore other topics or rerun the notebook with your own dataset. Happy exploring!"
   ]
  }
 ],
 "metadata": {
  "kernelspec": {
   "display_name": ".venv",
   "language": "python",
   "name": "python3"
  },
  "language_info": {
   "codemirror_mode": {
    "name": "ipython",
    "version": 3
   },
   "file_extension": ".py",
   "mimetype": "text/x-python",
   "name": "python",
   "nbconvert_exporter": "python",
   "pygments_lexer": "ipython3",
   "version": "3.12.9"
  }
 },
 "nbformat": 4,
 "nbformat_minor": 2
}
