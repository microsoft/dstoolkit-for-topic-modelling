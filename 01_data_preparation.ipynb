{
 "cells": [
  {
   "cell_type": "markdown",
   "metadata": {},
   "source": [
    "# Data Preparation for Topic Modeling\n",
    "\n",
    "This notebook demonstrates how to load and prepare text data for topic modeling. We'll work with the Cohere/movies dataset from Hugging Face.\n",
    "\n",
    "## Parameters Explanation\n",
    "\n",
    "- **dataset_type**: Source of our dataset (HF = Hugging Face)\n",
    "- **dataset_name**: The specific dataset we're using (Cohere/movies)"
   ]
  },
  {
   "cell_type": "code",
   "execution_count": 3,
   "metadata": {},
   "outputs": [],
   "source": [
    "# Define the type and name of the dataset\n",
    "dataset_type: str = \"HF\"\n",
    "dataset_name: str = \"Cohere/movies\""
   ]
  },
  {
   "cell_type": "markdown",
   "metadata": {},
   "source": [
    "## Data Loading\n",
    "\n",
    "We'll now load our dataset from Hugging Face and prepare it for topic modeling. "
   ]
  },
  {
   "cell_type": "code",
   "execution_count": 11,
   "metadata": {},
   "outputs": [
    {
     "data": {
      "text/plain": [
       "4803"
      ]
     },
     "execution_count": 11,
     "metadata": {},
     "output_type": "execute_result"
    }
   ],
   "source": [
    "import numpy as np\n",
    "from src.data_utils import TextPreProcessor, CorpusProcessor\n",
    "import pandas as pd\n",
    "from datasets import load_dataset\n",
    "import warnings\n",
    "warnings.filterwarnings('ignore')\n",
    " \n",
    "# Load a dataset (replace 'dataset_name' with the desired dataset's name from HuggingFace, or filename of the local dataset)\n",
    "if dataset_type == \"HF\":\n",
    "    dataset = load_dataset(dataset_name)\n",
    "else: dataset = load_dataset(\"csv\", data_files={\"train\": f\"{dataset_name}.csv\"})\n",
    "len(dataset['train'])"
   ]
  },
  {
   "cell_type": "markdown",
   "metadata": {},
   "source": [
    "## What is a 'Document' in Topic Modeling?\",\n",
    "\n",
    "In topic modeling, a **document** is a discrete text unit that we analyze to discover underlying topics. Some key points:,\n",
    "\n",
    "- A document can be of any length - from a short tweet to a full book chapter,\n",
    "- In our case, each movie overview/description is a separate 'document',\n",
    "- Topic modeling assumes each document is a mixture of multiple topics,\n",
    "- The same words can appear in different topics with different probabilities,\n",
    "- The definition of what constitutes a 'document' depends on your specific analytical needs,\n",
    "\n",
    "The granularity of what you define as a 'document' can significantly impact your topic modeling results.\n"
   ]
  },
  {
   "cell_type": "code",
   "execution_count": 19,
   "metadata": {},
   "outputs": [
    {
     "name": "stdout",
     "output_type": "stream",
     "text": [
      "Number of documents: 4800\n",
      "First preprocessed documents: In the 22nd century, a paraplegic Marine is dispatched to the moon Pandora on a unique mission, but becomes torn between following orders and protecting an alien civilization.\n"
     ]
    }
   ],
   "source": [
    "# Collect documents and print the number of documents\n",
    "documents = []\n",
    "for d in dataset['train']['overview']:\n",
    "    if d is not None:\n",
    "        documents.append(d)\n",
    "\n",
    "print('Number of documents:', len(documents))\n",
    "\n",
    "# Print the first 2 preprocessed documents\n",
    "print('First preprocessed documents:', documents[0])"
   ]
  },
  {
   "cell_type": "markdown",
   "metadata": {},
   "source": [
    "## Text Preprocessing\n",
    "\n",
    "Before running our topic model, we need to clean and prepare the text data:\n",
    "1. Tokenization: Breaking text into individual words\n",
    "2. Removing stopwords: Common words like \"the\", \"and\", \"is\" that don't carry much meaning\n",
    "3. Lemmatization/stemming: Reducing words to their root forms\n",
    "4. Creating a document-term matrix: Converting processed text to numerical format"
   ]
  },
  {
   "cell_type": "code",
   "execution_count": 20,
   "metadata": {},
   "outputs": [],
   "source": [
    "# Preprocess the text documents\n",
    "tp = TextPreProcessor()\n",
    "documents = tp.preprocess(documents)\n",
    "\n",
    "# Get and save the documents\n",
    "with open('./data/documents.pkl', 'wb') as file:\n",
    "    pickle.dump(documents, file)\n"
   ]
  },
  {
   "cell_type": "code",
   "execution_count": 8,
   "metadata": {},
   "outputs": [
    {
     "name": "stdout",
     "output_type": "stream",
     "text": [
      "Average number of words per document: 53.24791666666667\n"
     ]
    }
   ],
   "source": [
    "# Calculate and print the average number of words in a document\n",
    "average_words = np.mean([len(d) for d in documents])\n",
    "print('Average number of words per document:', average_words)"
   ]
  },
  {
   "cell_type": "code",
   "execution_count": 9,
   "metadata": {},
   "outputs": [
    {
     "name": "stdout",
     "output_type": "stream",
     "text": [
      "Vocabulary size: 4270\n"
     ]
    }
   ],
   "source": [
    "import pickle\n",
    "\n",
    "# Process the documents to create a document-term matrix\n",
    "cp = CorpusProcessor(max_relative_frequency=0.9, min_absolute_frequency=5)\n",
    "cp.process(documents)\n",
    "\n",
    "# Get and save the vocabulary\n",
    "vocab = cp.get_vocab()\n",
    "with open('./data/vocab.pkl', 'wb') as file:\n",
    "    pickle.dump(vocab, file)\n",
    "print('Vocabulary size:', len(vocab))"
   ]
  },
  {
   "cell_type": "code",
   "execution_count": 10,
   "metadata": {},
   "outputs": [
    {
     "name": "stdout",
     "output_type": "stream",
     "text": [
      "Document-term matrix shape: (4799, 4270)\n"
     ]
    }
   ],
   "source": [
    "# Get the document-term matrix and save it\n",
    "X = cp.get_vectorised_documents()\n",
    "with open('./data/doc_term_matrix.pkl', 'wb') as file:\n",
    "    pickle.dump(X, file)\n",
    "print('Document-term matrix shape:', X.shape)"
   ]
  }
 ],
 "metadata": {
  "kernelspec": {
   "display_name": ".venv",
   "language": "python",
   "name": "python3"
  },
  "language_info": {
   "codemirror_mode": {
    "name": "ipython",
    "version": 3
   },
   "file_extension": ".py",
   "mimetype": "text/x-python",
   "name": "python",
   "nbconvert_exporter": "python",
   "pygments_lexer": "ipython3",
   "version": "3.12.9"
  }
 },
 "nbformat": 4,
 "nbformat_minor": 2
}
